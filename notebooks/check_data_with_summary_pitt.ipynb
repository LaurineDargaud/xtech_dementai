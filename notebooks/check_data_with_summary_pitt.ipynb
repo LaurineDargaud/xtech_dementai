{
 "cells": [
  {
   "cell_type": "code",
   "execution_count": 28,
   "metadata": {},
   "outputs": [],
   "source": [
    "import pandas as pd"
   ]
  },
  {
   "cell_type": "code",
   "execution_count": 59,
   "metadata": {},
   "outputs": [
    {
     "data": {
      "text/plain": [
       "Index(['id', 'visit1da', 'isDementia', 'mmse1', 'visit2da', 'mmse2',\n",
       "       'visit3da', 'mmse3', 'visit4da', 'mmse4', 'visit5da', 'mmse5',\n",
       "       'visit6da', 'mmse6', 'visit7da', 'mmse7'],\n",
       "      dtype='object')"
      ]
     },
     "execution_count": 59,
     "metadata": {},
     "output_type": "execute_result"
    }
   ],
   "source": [
    "summary = pd.read_csv('../data/Pitt-data-summary.csv', delimiter=';')\n",
    "summary = summary.drop('Unnamed: 16', axis=1)\n",
    "summary.columns"
   ]
  },
  {
   "cell_type": "code",
   "execution_count": 51,
   "metadata": {},
   "outputs": [],
   "source": [
    "from pathlib import Path\n",
    "import glob2\n",
    "\n",
    "data_path = '../data/processed/'\n",
    "\n",
    "dementia_files = [ Path(p).absolute() for p in glob2.glob(data_path + 'dementia/pitt/cookie/*') ]\n",
    "control_files = [ Path(p).absolute() for p in glob2.glob(data_path + 'control/pitt/cookie/*') ]\n",
    "\n",
    "dementia_subjects = list(set([int(a.stem.split('-')[0]) for a in dementia_files]))\n",
    "control_subjects = list(set([int(a.stem.split('-')[0]) for a in control_files]))"
   ]
  },
  {
   "cell_type": "code",
   "execution_count": 55,
   "metadata": {},
   "outputs": [
    {
     "name": "stdout",
     "output_type": "stream",
     "text": [
      "Errors: 0 / 99\n"
     ]
    }
   ],
   "source": [
    "count_errors_control = 0\n",
    "for s in control_subjects:\n",
    "    diagnostic_from_summary = int(summary[summary.id == s].isDementia.values[0])\n",
    "    if diagnostic_from_summary != 0:\n",
    "        count_errors_control += 1\n",
    "print('Errors:', count_errors_control, '/', len(control_subjects))"
   ]
  },
  {
   "cell_type": "code",
   "execution_count": 58,
   "metadata": {},
   "outputs": [
    {
     "name": "stdout",
     "output_type": "stream",
     "text": [
      "3 0\n",
      "5 0\n",
      "7 0\n",
      "10 0\n",
      "528 0\n",
      "16 0\n",
      "529 0\n",
      "24 0\n",
      "29 0\n",
      "30 0\n",
      "544 0\n",
      "33 0\n",
      "35 0\n",
      "39 0\n",
      "46 0\n",
      "559 0\n",
      "51 0\n",
      "57 0\n",
      "58 0\n",
      "573 0\n",
      "61 0\n",
      "65 0\n",
      "578 0\n",
      "67 0\n",
      "70 0\n",
      "66 0\n",
      "76 0\n",
      "591 0\n",
      "594 0\n",
      "598 0\n",
      "601 0\n",
      "89 0\n",
      "94 0\n",
      "610 0\n",
      "620 0\n",
      "120 0\n",
      "639 0\n",
      "127 0\n",
      "134 0\n",
      "650 0\n",
      "651 0\n",
      "144 0\n",
      "656 0\n",
      "663 0\n",
      "154 0\n",
      "674 2\n",
      "676 0\n",
      "164 0\n",
      "168 0\n",
      "681 0\n",
      "172 0\n",
      "178 0\n",
      "181 0\n",
      "183 0\n",
      "184 0\n",
      "702 0\n",
      "704 0\n",
      "707 0\n",
      "711 0\n",
      "203 0\n",
      "205 0\n",
      "206 0\n",
      "212 0\n",
      "216 0\n",
      "221 0\n",
      "237 0\n",
      "244 0\n",
      "252 0\n",
      "257 0\n",
      "260 0\n",
      "268 0\n",
      "270 0\n",
      "271 0\n",
      "279 0\n",
      "282 0\n",
      "283 0\n",
      "289 0\n",
      "291 0\n",
      "306 0\n",
      "325 0\n",
      "329 0\n",
      "334 0\n",
      "338 0\n",
      "339 0\n",
      "341 0\n",
      "342 0\n",
      "344 0\n",
      "349 0\n",
      "354 0\n",
      "355 0\n",
      "356 0\n",
      "357 0\n",
      "369 0\n",
      "450 0\n",
      "461 0\n",
      "465 0\n",
      "466 0\n",
      "470 0\n",
      "471 0\n",
      "472 0\n",
      "474 0\n",
      "476 0\n",
      "488 0\n",
      "492 0\n",
      "497 0\n",
      "506 0\n",
      "Errors: 106 / 192\n"
     ]
    }
   ],
   "source": [
    "count_errors_dementia = 0\n",
    "for s in dementia_subjects:\n",
    "    diagnostic_from_summary = int(summary[summary.id == s].isDementia.values[0])\n",
    "    if diagnostic_from_summary != 1:\n",
    "        print(s, diagnostic_from_summary)\n",
    "        count_errors_dementia += 1\n",
    "print('Errors:', count_errors_dementia, '/', len(dementia_subjects))"
   ]
  },
  {
   "cell_type": "code",
   "execution_count": null,
   "metadata": {},
   "outputs": [],
   "source": []
  }
 ],
 "metadata": {
  "kernelspec": {
   "display_name": "Python 3.9.12 ('base': conda)",
   "language": "python",
   "name": "python3"
  },
  "language_info": {
   "codemirror_mode": {
    "name": "ipython",
    "version": 3
   },
   "file_extension": ".py",
   "mimetype": "text/x-python",
   "name": "python",
   "nbconvert_exporter": "python",
   "pygments_lexer": "ipython3",
   "version": "3.9.12"
  },
  "orig_nbformat": 4,
  "vscode": {
   "interpreter": {
    "hash": "b436ce4aa9a050b3c12f13399e5d5f02b520991d83a91cd5126888583b80ec2a"
   }
  }
 },
 "nbformat": 4,
 "nbformat_minor": 2
}
