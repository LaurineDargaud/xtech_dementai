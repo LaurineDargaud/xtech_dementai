{
 "cells": [
  {
   "cell_type": "code",
   "execution_count": 1,
   "metadata": {},
   "outputs": [],
   "source": [
    "%matplotlib inline\n",
    "import numpy as np\n",
    "from pathlib import Path\n",
    "import glob2\n",
    "\n",
    "import seaborn as sns\n",
    "import matplotlib.pyplot as plt"
   ]
  },
  {
   "cell_type": "code",
   "execution_count": 2,
   "metadata": {},
   "outputs": [],
   "source": [
    "all_datasets = {\n",
    "    'pitt':['fluency','cookie','recall','sentence'],\n",
    "    'adress2020':['full']\n",
    "}"
   ]
  },
  {
   "cell_type": "code",
   "execution_count": 3,
   "metadata": {},
   "outputs": [],
   "source": [
    "all_sizes = {}\n",
    "for database, aList in all_datasets.items():\n",
    "    dementia_sizes = []\n",
    "    control_sizes = []\n",
    "    for subfolder in aList:\n",
    "        folder_control = f'../data/processed/control/{database}/{subfolder}/'\n",
    "        folder_dementia = f'../data/processed/dementia/{database}/{subfolder}/'\n",
    "        control_files = [ Path(p).absolute() for p in glob2.glob(folder_control + '/*') ]\n",
    "        dementia_files = [ Path(p).absolute() for p in glob2.glob(folder_dementia + '/*') ]\n",
    "        size_control = len(control_files)\n",
    "        size_dementia = len(dementia_files)\n",
    "        dementia_sizes.append(size_dementia)\n",
    "        control_sizes.append(size_control)\n",
    "    all_sizes[database] = {\n",
    "        'control_sizes': control_sizes,\n",
    "        'dementia_sizes': dementia_sizes,\n",
    "        'total_control': np.sum(control_sizes),\n",
    "        'total_dementia':np.sum(dementia_sizes),\n",
    "        'total_database':np.sum(control_sizes)+np.sum(dementia_sizes)\n",
    "    }"
   ]
  },
  {
   "cell_type": "code",
   "execution_count": 4,
   "metadata": {},
   "outputs": [
    {
     "name": "stdout",
     "output_type": "stream",
     "text": [
      "Database pitt:\n",
      "\t- control_sizes: [2, 244, 1, 1]\n",
      "\t- dementia_sizes: [235, 303, 263, 236]\n",
      "\t- total_control: 248\n",
      "\t- total_dementia: 1037\n",
      "\t- total_database: 1285\n",
      "Database adress2020:\n",
      "\t- control_sizes: [54]\n",
      "\t- dementia_sizes: [54]\n",
      "\t- total_control: 54\n",
      "\t- total_dementia: 54\n",
      "\t- total_database: 108\n"
     ]
    }
   ],
   "source": [
    "for k, d in all_sizes.items():\n",
    "    print(f'Database {k}:')\n",
    "    for k1, v in d.items():\n",
    "        print(f'\\t- {k1}: {v}')"
   ]
  },
  {
   "cell_type": "code",
   "execution_count": 6,
   "metadata": {},
   "outputs": [
    {
     "name": "stdout",
     "output_type": "stream",
     "text": [
      "Total of dementia samples: 1091\n",
      "Total of control samples: 302\n",
      "Total nb of data: 1393\n"
     ]
    }
   ],
   "source": [
    "# total dementia\n",
    "total_dementia = np.sum([d['total_dementia'] for _, d in all_sizes.items()])\n",
    "print('Total of dementia samples:', total_dementia)\n",
    "# total control\n",
    "total_control = np.sum([d['total_control'] for _, d in all_sizes.items()])\n",
    "print('Total of control samples:', total_control)\n",
    "# total\n",
    "total = total_dementia + total_control\n",
    "print('Total nb of data:', total)"
   ]
  }
 ],
 "metadata": {
  "kernelspec": {
   "display_name": "Python 3.9.12 ('base': conda)",
   "language": "python",
   "name": "python3"
  },
  "language_info": {
   "codemirror_mode": {
    "name": "ipython",
    "version": 3
   },
   "file_extension": ".py",
   "mimetype": "text/x-python",
   "name": "python",
   "nbconvert_exporter": "python",
   "pygments_lexer": "ipython3",
   "version": "3.9.12"
  },
  "orig_nbformat": 4,
  "vscode": {
   "interpreter": {
    "hash": "b436ce4aa9a050b3c12f13399e5d5f02b520991d83a91cd5126888583b80ec2a"
   }
  }
 },
 "nbformat": 4,
 "nbformat_minor": 2
}
