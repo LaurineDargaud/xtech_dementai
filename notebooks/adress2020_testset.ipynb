{
 "cells": [
  {
   "cell_type": "code",
   "execution_count": 7,
   "metadata": {},
   "outputs": [],
   "source": [
    "import numpy as np\n",
    "import pandas as pd"
   ]
  },
  {
   "cell_type": "code",
   "execution_count": 23,
   "metadata": {},
   "outputs": [],
   "source": [
    "test = pd.read_csv('../data/raw/ADReSS_2020/ADReSS_2020_results.txt', delimiter=';')"
   ]
  },
  {
   "cell_type": "code",
   "execution_count": 24,
   "metadata": {},
   "outputs": [
    {
     "data": {
      "text/plain": [
       "Index(['ID', 'age', 'gender', 'label', 'mmse'], dtype='object')"
      ]
     },
     "execution_count": 24,
     "metadata": {},
     "output_type": "execute_result"
    }
   ],
   "source": [
    "test.columns"
   ]
  },
  {
   "cell_type": "code",
   "execution_count": 27,
   "metadata": {},
   "outputs": [
    {
     "data": {
      "text/plain": [
       "array(['S160 ', 'S161 ', 'S163 ', 'S166 ', 'S170 ', 'S172 ', 'S174 ',\n",
       "       'S175 ', 'S177 ', 'S178 ', 'S180 ', 'S183 ', 'S184 ', 'S186 ',\n",
       "       'S193 ', 'S195 ', 'S196 ', 'S197 ', 'S199 ', 'S201 ', 'S202 ',\n",
       "       'S204 ', 'S206 ', 'S207 '], dtype=object)"
      ]
     },
     "execution_count": 27,
     "metadata": {},
     "output_type": "execute_result"
    }
   ],
   "source": [
    "print('CONTROL:')\n",
    "test[test.label == 0]['ID'].values"
   ]
  },
  {
   "cell_type": "code",
   "execution_count": 28,
   "metadata": {},
   "outputs": [
    {
     "name": "stdout",
     "output_type": "stream",
     "text": [
      "DEMENTIA:\n"
     ]
    },
    {
     "data": {
      "text/plain": [
       "array(['S162 ', 'S164 ', 'S165 ', 'S167 ', 'S168 ', 'S169 ', 'S171 ',\n",
       "       'S173 ', 'S176 ', 'S179 ', 'S181 ', 'S182 ', 'S185 ', 'S187 ',\n",
       "       'S188 ', 'S189 ', 'S190 ', 'S191 ', 'S192 ', 'S194 ', 'S198 ',\n",
       "       'S200 ', 'S203 ', 'S205 '], dtype=object)"
      ]
     },
     "execution_count": 28,
     "metadata": {},
     "output_type": "execute_result"
    }
   ],
   "source": [
    "print('DEMENTIA:')\n",
    "test[test.label == 1]['ID'].values"
   ]
  },
  {
   "cell_type": "code",
   "execution_count": null,
   "metadata": {},
   "outputs": [],
   "source": []
  }
 ],
 "metadata": {
  "kernelspec": {
   "display_name": "Python 3.9.12 ('base': conda)",
   "language": "python",
   "name": "python3"
  },
  "language_info": {
   "codemirror_mode": {
    "name": "ipython",
    "version": 3
   },
   "file_extension": ".py",
   "mimetype": "text/x-python",
   "name": "python",
   "nbconvert_exporter": "python",
   "pygments_lexer": "ipython3",
   "version": "3.9.12"
  },
  "orig_nbformat": 4,
  "vscode": {
   "interpreter": {
    "hash": "b436ce4aa9a050b3c12f13399e5d5f02b520991d83a91cd5126888583b80ec2a"
   }
  }
 },
 "nbformat": 4,
 "nbformat_minor": 2
}
